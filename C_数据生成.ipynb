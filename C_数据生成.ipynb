{
 "cells": [
  {
   "cell_type": "code",
   "execution_count": 73,
   "outputs": [
    {
     "name": "stdout",
     "output_type": "stream",
     "text": [
      "[[-5.000e-04 -5.932e-01  1.000e-02  5.070e-01]\n",
      " [-1.680e-02 -6.964e-01  1.000e-02  4.040e-01]\n",
      " [ 4.000e-04 -6.451e-01  1.000e-02  4.550e-01]\n",
      " [-3.330e-02 -6.413e-01  1.000e-02  4.590e-01]\n",
      " [ 5.000e-04 -8.220e-02  1.000e-02  9.530e-01]\n",
      " [-2.100e-03  1.304e-01  1.000e-02  1.024e+00]\n",
      " [-3.000e-04 -1.652e-01  1.000e-02  9.190e-01]\n",
      " [-5.000e-04 -1.800e-01  1.000e-02  9.110e-01]\n",
      " [-8.000e-04 -1.881e-01  1.000e-02  9.360e-01]\n",
      " [-1.690e-02 -7.160e-02  1.000e-02  9.270e-01]\n",
      " [-1.810e-02 -4.530e-02  1.000e-02  9.340e-01]\n",
      " [-1.370e-02 -5.490e-02  1.000e-02  9.160e-01]\n",
      " [-2.600e-03  2.150e-02  1.000e-02  1.021e+00]\n",
      " [-1.000e-04 -4.530e-02  1.000e-02  9.550e-01]\n",
      " [-3.100e-03  1.026e-01  1.000e-02  1.247e+00]] [ 107.2  160.6  179.2 -290.3   49.3   78.7   66.4  -17.9   -9.4  -52.2\n",
      " -106.   189.4 -160.8 -427.1 -351.4]\n"
     ]
    },
    {
     "data": {
      "text/plain": "(array([ 107.2,  160.6,  179.2, -290.3,   49.3,   78.7,   66.4,  -17.9,\n          -9.4,  -52.2, -106. ,  189.4, -160.8, -427.1, -351.4]),\n array([ 107.2,  160.6,  179.2, -290.3,   49.3,   78.7,   66.4,  -17.9,\n          -9.4,  -52.2, -106. ,  189.4, -160.8, -427.1, -351.4]))"
     },
     "execution_count": 73,
     "metadata": {},
     "output_type": "execute_result"
    }
   ],
   "source": [
    "import pandas as pd\n",
    "from sklearn.linear_model import LinearRegression\n",
    "from sklearn.preprocessing import PolynomialFeatures\n",
    "data =  pd.read_excel(\"/Volumes/17194110228/projects/PycharmProjects汪雷/data.xlsx\",sheet_name=\"C (2)\")\n",
    "# train_data = data\n",
    "newdata = data[data[\"ΔS\"].notna()].to_numpy()\n",
    "X = newdata[:,1:5]\n",
    "y = newdata[:,0]\n",
    "print(X,y)\n",
    "# 非线性回归\n",
    "ployfeat1 = PolynomialFeatures(degree=1)  # 根据degree的值转换为相应的多项式（非线性回归）\n",
    "ployfeat2 = PolynomialFeatures(degree=2)  # 根据degree的值转换为相应的多项式（非线性回归）\n",
    "ployfeat3 = PolynomialFeatures(degree=3)  # 根据degree的值转换为相应的多项式（非线性回归）\n",
    "\n",
    "model1 = LinearRegression()\n",
    "model1.fit(ployfeat1.fit_transform(X), y)\n",
    "model1.predict(ployfeat1.fit_transform(X)),y\n",
    "\n",
    "model2 = LinearRegression()\n",
    "model2.fit(ployfeat2.fit_transform(X), y)\n",
    "model2.predict(ployfeat2.fit_transform(X)),y\n",
    "\n",
    "model3 = LinearRegression()\n",
    "model3.fit(ployfeat3.fit_transform(X), y)\n",
    "model3.predict(ployfeat3.fit_transform(X)),y"
   ],
   "metadata": {
    "collapsed": false,
    "ExecuteTime": {
     "end_time": "2023-11-09T03:01:47.996647Z",
     "start_time": "2023-11-09T03:01:47.943385Z"
    }
   },
   "id": "5b3088cc136c79ff"
  },
  {
   "cell_type": "code",
   "execution_count": 79,
   "outputs": [],
   "source": [
    "import numpy as np\n",
    "# 填充数据\n",
    "# data.loc(1)[:\n",
    "data =  pd.read_excel(\"/Volumes/17194110228/projects/PycharmProjects汪雷/data.xlsx\",sheet_name=\"C (2)\")\n",
    "test_X = data[data[\"ΔS\"].isna()][['lnr','△EA','Wt','RCE*']].to_numpy()\n",
    "\n",
    "result = model2.predict(ployfeat2.fit_transform(test_X))\n",
    "i = 0\n",
    "for index,r in enumerate(data[\"ΔS\"]):\n",
    "    if pd.isna(r):\n",
    "        if result[i]>=1000 or result[i] <=-1000:\n",
    "            result[i] = model3.predict(ployfeat3.fit_transform(test_X))[i]\n",
    "            if result[i]>=1000 or result[i] <=-1000:\n",
    "                result[i] = model1.predict(ployfeat1.fit_transform(test_X))[i]\n",
    "        data[\"ΔS\"][index] = result[i]\n",
    "        i = i + 1\n",
    "\n",
    "data.to_csv(\"./generate.csv\",index=False)\n",
    "# for index,r in enumerate(data[\"ΔS\"]):\n",
    "#     print(r,data[\"ΔS\"].isna)\n",
    "#     if data[\"ΔS\"][index].isna():\n",
    "#         print(\"true\")"
   ],
   "metadata": {
    "collapsed": false,
    "ExecuteTime": {
     "end_time": "2023-11-09T03:04:44.956972Z",
     "start_time": "2023-11-09T03:04:44.915077Z"
    }
   },
   "id": "7e8ad1b97488769c"
  },
  {
   "cell_type": "code",
   "execution_count": null,
   "outputs": [],
   "source": [],
   "metadata": {
    "collapsed": false
   },
   "id": "c8235e61af879a2e"
  }
 ],
 "metadata": {
  "kernelspec": {
   "display_name": "Python 3",
   "language": "python",
   "name": "python3"
  },
  "language_info": {
   "codemirror_mode": {
    "name": "ipython",
    "version": 2
   },
   "file_extension": ".py",
   "mimetype": "text/x-python",
   "name": "python",
   "nbconvert_exporter": "python",
   "pygments_lexer": "ipython2",
   "version": "2.7.6"
  }
 },
 "nbformat": 4,
 "nbformat_minor": 5
}
